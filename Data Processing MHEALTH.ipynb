{
 "cells": [
  {
   "cell_type": "markdown",
   "metadata": {},
   "source": [
    "# mHealth Dataset\n",
    "1) Experimental Setup\n",
    "\n",
    "The collected dataset comprises body motion and vital signs recordings for ten volunteers of diverse profile while performing 12 physical activities (Table 1). \n",
    "Shimmer2 [BUR10] wearable sensors were used for the recordings. The sensors were respectively placed on the subject's chest, right wrist and left ankle and \n",
    "attached by using elastic straps (as shown in the figure in attachment). The use of multiple sensors permits us to measure the motion experienced by diverse body parts, \n",
    "namely, the acceleration, the rate of turn and the magnetic field orientation, thus better capturing the body dynamics. The sensor positioned\n",
    "on the chest also provides 2-lead ECG measurements which are not used for the development of the recognition model but rather collected for future work purposes.\n",
    "This information can be used, for example, for basic heart monitoring, checking for various arrhythmias or looking at the effects of exercise on the ECG. \n",
    "All sensing modalities are recorded at a sampling rate of 50 Hz, which is considered sufficient for capturing human activity. Each session was recorded using a video camera.\n",
    "This dataset is found to generalize to common activities of the daily living, given the diversity of body parts involved in each one (e.g., frontal elevation of arms vs.\n",
    "knees bending), the intensity of the actions (e.g., cycling vs. sitting and relaxing) and their execution speed or dynamicity (e.g., running vs. standing still). The activities\n",
    "were collected in an out-of-lab environment with no constraints on the way these must be executed, with the exception that the subject should try their best when executing them.\n",
    "\n",
    "2) Activity set\n",
    "\n",
    "The activity set is listed in the following:\n",
    "\n",
    "- L1: Standing still (1 min) \n",
    "- L2: Sitting and relaxing (1 min) \n",
    "- L3: Lying down (1 min) \n",
    "- L4: Walking (1 min) \n",
    "- L5: Climbing stairs (1 min) \n",
    "- L6: Waist bends forward (20x) \n",
    "- L7: Frontal elevation of arms (20x)\n",
    "- L8: Knees bending (crouching) (20x)\n",
    "- L9: Cycling (1 min)\n",
    "- L10: Jogging (1 min)\n",
    "- L11: Running (1 min)\n",
    "- L12: Jump front & back (20x)\n",
    "\n",
    "NOTE: In brackets are the number of repetitions (Nx) or the duration of the exercises (min).\n",
    "\n",
    "3) Dataset files\n",
    "The data collected for each subject is stored in a different log file: 'mHealth_subject<SUBJECT_ID>.log'.\n",
    "Each file contains the samples (by rows) recorded for all sensors (by columns).\n",
    "The labels used to identify the activities are similar to the ones presented in Section 2 (e.g., the label for walking is '4').\n",
    "The meaning of each column is detailed next:\n",
    "\n",
    "- Column 1: acceleration from the chest sensor (X axis)\n",
    "- Column 2: acceleration from the chest sensor (Y axis)\n",
    "- Column 3: acceleration from the chest sensor (Z axis)\n",
    "- Column 4: electrocardiogram signal (lead 1) \n",
    "- Column 5: electrocardiogram signal (lead 2)\n",
    "- Column 6: acceleration from the left-ankle sensor (X axis)\n",
    "- Column 7: acceleration from the left-ankle sensor (Y axis)\n",
    "- Column 8: acceleration from the left-ankle sensor (Z axis)\n",
    "- Column 9: gyro from the left-ankle sensor (X axis)\n",
    "- Column 10: gyro from the left-ankle sensor (Y axis)\n",
    "- Column 11: gyro from the left-ankle sensor (Z axis)\n",
    "- Column 13: magnetometer from the left-ankle sensor (X axis)\n",
    "- Column 13: magnetometer from the left-ankle sensor (Y axis)\n",
    "- Column 14: magnetometer from the left-ankle sensor (Z axis)\n",
    "- Column 15: acceleration from the right-lower-arm sensor (X axis)\n",
    "- Column 16: acceleration from the right-lower-arm sensor (Y axis)\n",
    "- Column 17: acceleration from the right-lower-arm sensor (Z axis)\n",
    "- Column 18: gyro from the right-lower-arm sensor (X axis)\n",
    "- Column 19: gyro from the right-lower-arm sensor (Y axis)\n",
    "- Column 20: gyro from the right-lower-arm sensor (Z axis)\n",
    "- Column 21: magnetometer from the right-lower-arm sensor (X axis)\n",
    "- Column 22: magnetometer from the right-lower-arm sensor (Y axis)\n",
    "- Column 23: magnetometer from the right-lower-arm sensor (Z axis)\n",
    "- Column 24: Label (0 for the null class)\n",
    "\n",
    "*Units: Acceleration (m/s^2), gyroscope (deg/s), magnetic field (local), ecg (mV)\n",
    "\n"
   ]
  },
  {
   "cell_type": "code",
   "execution_count": 1,
   "metadata": {},
   "outputs": [],
   "source": [
    "mhealth_chest_location = [0, 1, 2, 23]\n",
    "mhealth_left_ankle_location = [5, 6, 7, 23]\n",
    "mhealth_right_wrist_location = [14, 15, 16, 23]"
   ]
  },
  {
   "cell_type": "code",
   "execution_count": 26,
   "metadata": {},
   "outputs": [],
   "source": [
    "import os\n",
    "import sys\n",
    "import numpy as np\n",
    "import pandas as pd\n",
    "import pickle as pkl\n",
    "import matplotlib.pyplot as plt\n",
    "from sklearn.utils import shuffle\n",
    "import random"
   ]
  },
  {
   "cell_type": "code",
   "execution_count": 10,
   "metadata": {},
   "outputs": [],
   "source": [
    "mhealth_folder = \"../../../Datasets/MHEALTHDATASET/\""
   ]
  },
  {
   "cell_type": "code",
   "execution_count": 11,
   "metadata": {},
   "outputs": [
    {
     "data": {
      "text/plain": [
       "['mHealth_subject1.log',\n",
       " 'mHealth_subject10.log',\n",
       " 'mHealth_subject2.log',\n",
       " 'mHealth_subject3.log',\n",
       " 'mHealth_subject4.log',\n",
       " 'mHealth_subject5.log',\n",
       " 'mHealth_subject6.log',\n",
       " 'mHealth_subject7.log',\n",
       " 'mHealth_subject8.log',\n",
       " 'mHealth_subject9.log',\n",
       " 'README.txt']"
      ]
     },
     "execution_count": 11,
     "metadata": {},
     "output_type": "execute_result"
    }
   ],
   "source": [
    "os.listdir(mhealth_folder)"
   ]
  },
  {
   "cell_type": "code",
   "execution_count": 21,
   "metadata": {},
   "outputs": [
    {
     "data": {
      "text/plain": [
       "(array([ 1,  2,  3,  4,  5,  6,  7,  8,  9, 10]), 10)"
      ]
     },
     "execution_count": 21,
     "metadata": {},
     "output_type": "execute_result"
    }
   ],
   "source": [
    "subject_ids = np.arange(1, 11, 1)\n",
    "subject_ids, len(subject_ids)"
   ]
  },
  {
   "cell_type": "code",
   "execution_count": 63,
   "metadata": {},
   "outputs": [],
   "source": [
    "# We randomly select half subject ids for source dataset and the remaining half for the target dataset\n",
    "source_ids = subject_ids[random.sample(range(0, max(subject_ids)), len(subject_ids)//2)]\n",
    "target_ids = [r for r in subject_ids if r not in source_ids]"
   ]
  },
  {
   "cell_type": "code",
   "execution_count": 64,
   "metadata": {},
   "outputs": [
    {
     "data": {
      "text/plain": [
       "(array([ 1,  6,  7,  9, 10]), [2, 3, 4, 5, 8])"
      ]
     },
     "execution_count": 64,
     "metadata": {},
     "output_type": "execute_result"
    }
   ],
   "source": [
    "source_ids, target_ids"
   ]
  },
  {
   "cell_type": "code",
   "execution_count": 32,
   "metadata": {},
   "outputs": [],
   "source": [
    "# read one subject data\n",
    "def mhealth_read_one_subject(subject_id, body_position):\n",
    "    filename = mhealth_folder + \"mHealth_subject\" + str(subject_id) + \".log\"\n",
    "    \n",
    "    # Read the file\n",
    "    df = pd.read_csv(filename, delim_whitespace = True, header = None)\n",
    "    \n",
    "    # Remove the data with no class - null class \n",
    "    df = df[df[23] != 0]\n",
    "    \n",
    "    # We have sensor reading along the 23 columns but we just want the sensor reading of acceleration from the right-lower-arm\n",
    "    # Those are in the columns 14 (x), 15(y), and 16 (z). We also hava acceleration from chest sensor in columns 0, 1, and 2, \n",
    "    # and acceleration from left-ankle sensor in columns 5, 6, and 7. Also, the label is in column 23\n",
    "    \n",
    "    df = df[body_position] #cannot leave the label out\n",
    "    return df"
   ]
  },
  {
   "cell_type": "code",
   "execution_count": 33,
   "metadata": {},
   "outputs": [],
   "source": [
    "# We need a windowing function, since the sampling frequency is 50 Hz\n",
    "def mhealth_windowing(data, window_length = 128, overlap_percent = 0.5):\n",
    "    n_channels = data.shape[1]\n",
    "    \n",
    "    # since we also have the class labels\n",
    "    n_channels =  n_channels - 1\n",
    "    \n",
    "    # group the samples based on the class labels in column 23\n",
    "    groups = data.groupby(23)\n",
    "    \n",
    "    # placeholders to save the data\n",
    "    X_ = []\n",
    "    Y_ = []\n",
    "    \n",
    "    # now loop over the groups and extract the windows with 50% overlap\n",
    "    for gr in range(1, len(groups) + 1, 1):\n",
    "        # get the data for that group \n",
    "        df_ = groups.get_group(gr)\n",
    "        \n",
    "        # Data and labels\n",
    "        y = pd.unique(df_[23].values)\n",
    "        x = df_.drop(23, axis=1).values\n",
    "        \n",
    "        # now windowing\n",
    "        n_samples = len(x)\n",
    "        \n",
    "        # the number of window segments we will have without overlap\n",
    "        n_blocks = n_samples // window_length\n",
    "        n_upto = n_blocks * window_length\n",
    "        \n",
    "        # windowing with overlap_percent % overlap\n",
    "        tp = []\n",
    "        n_start = 0\n",
    "        n_end = n_start + window_length\n",
    "        overlap_length = int(overlap_percent * window_length)\n",
    "        \n",
    "        while n_end < n_samples:\n",
    "            tp.append(x[n_start:n_end])\n",
    "            n_start = n_end - overlap_length\n",
    "            n_end = n_start + window_length\n",
    "        \n",
    "        # save the data\n",
    "        X_.append(tp)\n",
    "        Y_.append(np.array([y] * len(tp), dtype=int).squeeze())\n",
    "        \n",
    "    \n",
    "    # Concatenate and return the data\n",
    "    X = np.concatenate(X_, axis=0)\n",
    "    Y = np.concatenate(Y_, axis=0)\n",
    "    \n",
    "    return X, Y"
   ]
  },
  {
   "cell_type": "code",
   "execution_count": 34,
   "metadata": {},
   "outputs": [],
   "source": [
    "# extract and merge all the subjects data into one file\n",
    "def mhealth_process_data(window_length, overlap_percent, position, subjects_index):\n",
    "    X_ = []\n",
    "    Y_ = []\n",
    "    \n",
    "#     # from 1 to 11, subject ids\n",
    "#     total_subject = 10 + 1  \n",
    "    \n",
    "#     # select the proper subject ids\n",
    "#     subject_range = np.arange(1, total_subject, 1)\n",
    "    \n",
    "#     if subjects == 'even':\n",
    "#         subject_range = np.arange(2, total_subject, 2)\n",
    "#     elif subjects == 'odd':\n",
    "#         subject_range = np.arange(1, total_subject, 2)\n",
    "    \n",
    "    # read the data file based on the subject id\n",
    "    for s in subjects_index:\n",
    "        print(\"Reading subject {} data\".format(s))\n",
    "        \n",
    "        # read the current subject data\n",
    "        df = mhealth_read_one_subject(s, position)\n",
    "        print(\"Data shape {}\".format(df.shape))\n",
    "\n",
    "        # Apply the windowing to the data\n",
    "        s_x, s_y = mhealth_windowing(df, window_length, overlap_percent)\n",
    "        print(\"Total segmens {}, of shape {}\".format(len(s_x), s_x.shape))\n",
    "        \n",
    "        # add to the list\n",
    "        X_.append(s_x)\n",
    "        Y_.append(s_y)\n",
    "        \n",
    "    # concatenate and save all\n",
    "    X = np.concatenate(X_, axis=0)\n",
    "    Y = np.concatenate(Y_, axis=0)\n",
    "    \n",
    "    return X, Y\n",
    "    "
   ]
  },
  {
   "cell_type": "code",
   "execution_count": 36,
   "metadata": {},
   "outputs": [],
   "source": [
    "def combine_components(df, window_length):\n",
    "    n_samples = df.shape[0]\n",
    "    X = np.zeros((n_samples, window_length * 3))\n",
    "\n",
    "    for i in range(n_samples):\n",
    "        # get the window data at position i\n",
    "        dp = df[i]\n",
    "\n",
    "        # placeholders to store the x, y, and z component of the window data\n",
    "        x = []\n",
    "        y = []\n",
    "        z = []\n",
    "        for q in dp:\n",
    "            x.append(q[0])\n",
    "            y.append(q[1])\n",
    "            z.append(q[2])\n",
    "\n",
    "        # save the x, y, and z as a single array\n",
    "        X[i] = np.concatenate((x, y, z))\n",
    "        \n",
    "    return X"
   ]
  },
  {
   "cell_type": "code",
   "execution_count": 40,
   "metadata": {},
   "outputs": [],
   "source": [
    "n_window_length = 128\n",
    "overlap_percentage = 0.5"
   ]
  },
  {
   "cell_type": "code",
   "execution_count": 37,
   "metadata": {},
   "outputs": [],
   "source": [
    "# Now the name of the activities\n",
    "mhealth_activities = ['Standing',\n",
    "                     'Sitting',\n",
    "                     'Lying Down',\n",
    "                     'Walking',\n",
    "                     'Climbing Stairs',\n",
    "                     'Waist Bend Forward',\n",
    "                     'Frontal Elevation Arms',\n",
    "                     'Knees Bending',\n",
    "                     'Cycling',\n",
    "                     'Jogging',\n",
    "                     'Running',\n",
    "                     'Jump Front & Back']"
   ]
  },
  {
   "cell_type": "code",
   "execution_count": 65,
   "metadata": {},
   "outputs": [
    {
     "name": "stdout",
     "output_type": "stream",
     "text": [
      "Reading subject 1 data\n",
      "Data shape (35174, 4)\n",
      "Total segmens 526, of shape (526, 128, 3)\n",
      "Reading subject 6 data\n",
      "Data shape (32205, 4)\n",
      "Total segmens 480, of shape (480, 128, 3)\n",
      "Reading subject 7 data\n",
      "Data shape (34253, 4)\n",
      "Total segmens 512, of shape (512, 128, 3)\n",
      "Reading subject 9 data\n",
      "Data shape (34354, 4)\n",
      "Total segmens 514, of shape (514, 128, 3)\n",
      "Reading subject 10 data\n",
      "Data shape (33690, 4)\n",
      "Total segmens 504, of shape (504, 128, 3)\n"
     ]
    }
   ],
   "source": [
    "source_x, source_y = mhealth_process_data(n_window_length, overlap_percentage, mhealth_right_wrist_location, source_ids)"
   ]
  },
  {
   "cell_type": "code",
   "execution_count": 66,
   "metadata": {},
   "outputs": [],
   "source": [
    "# starting the label from 0\n",
    "source_y = np.array(source_y) - 1"
   ]
  },
  {
   "cell_type": "code",
   "execution_count": 67,
   "metadata": {},
   "outputs": [
    {
     "name": "stdout",
     "output_type": "stream",
     "text": [
      "Reading subject 2 data\n",
      "Data shape (35532, 4)\n",
      "Total segmens 532, of shape (532, 128, 3)\n",
      "Reading subject 3 data\n",
      "Data shape (35380, 4)\n",
      "Total segmens 530, of shape (530, 128, 3)\n",
      "Reading subject 4 data\n",
      "Data shape (35328, 4)\n",
      "Total segmens 529, of shape (529, 128, 3)\n",
      "Reading subject 5 data\n",
      "Data shape (33947, 4)\n",
      "Total segmens 508, of shape (508, 128, 3)\n",
      "Reading subject 8 data\n",
      "Data shape (33332, 4)\n",
      "Total segmens 498, of shape (498, 128, 3)\n"
     ]
    }
   ],
   "source": [
    "target_x, target_y = mhealth_process_data(n_window_len, overlap_percentage, mhealth_right_wrist_location, target_ids)"
   ]
  },
  {
   "cell_type": "code",
   "execution_count": 68,
   "metadata": {},
   "outputs": [],
   "source": [
    "target_y = np.array(target_y) - 1"
   ]
  },
  {
   "cell_type": "code",
   "execution_count": 69,
   "metadata": {},
   "outputs": [],
   "source": [
    "data_folder = \"../Processed data/\""
   ]
  },
  {
   "cell_type": "code",
   "execution_count": 70,
   "metadata": {},
   "outputs": [
    {
     "data": {
      "text/plain": [
       "['adl_activity_dataset.pickle',\n",
       " 'adl_activity_dataset_small.pickle',\n",
       " 'adl_activity_dataset_small_minmax_scaled.pickle',\n",
       " 'adl_activity_feature_dataset_small.pickle',\n",
       " 'adl_dataset_small_minmax_scaled_feature.pickle',\n",
       " 'adl_posture_data.pickle',\n",
       " 'adl_posture_dataset.pickle',\n",
       " 'adl_posture_dataset_small.pickle',\n",
       " 'adl_posture_feature_dataset.pickle',\n",
       " 'adl_posture_feature_dataset_1.pickle',\n",
       " 'mHealth_ankle_dataset.pickle',\n",
       " 'mHealth_ankle_feature_dataset.pickle',\n",
       " 'mHealth_chest_dataset.pickle',\n",
       " 'mHealth_chest_feature_dataset.pickle',\n",
       " 'mHealth_wrist_dataset.pickle',\n",
       " 'mHealth_wrist_feature_dataset.pickle',\n",
       " 'mHealth_wrist_feature_dataset_1.pickle',\n",
       " 'mHealth_wrist_source_dataset.pickle',\n",
       " 'mHealth_wrist_target_dataset.pickle',\n",
       " 'uci_body_acc_dataset.pickle',\n",
       " 'uci_feature_dataset.pickle',\n",
       " 'uci_feature_dataset_1.pickle']"
      ]
     },
     "execution_count": 70,
     "metadata": {},
     "output_type": "execute_result"
    }
   ],
   "source": [
    "os.listdir(data_folder)"
   ]
  },
  {
   "cell_type": "code",
   "execution_count": 71,
   "metadata": {},
   "outputs": [],
   "source": [
    "f = open(data_folder+\"mHealth_wrist_source_dataset.pickle\", \"wb\")\n",
    "pkl.dump([source_x, source_y, source_ids], f)\n",
    "f.close()"
   ]
  },
  {
   "cell_type": "code",
   "execution_count": 72,
   "metadata": {},
   "outputs": [],
   "source": [
    "f = open(data_folder+\"mHealth_wrist_target_dataset.pickle\", \"wb\")\n",
    "pkl.dump([target_x, target_y, target_ids], f)\n",
    "f.close()"
   ]
  },
  {
   "cell_type": "code",
   "execution_count": null,
   "metadata": {},
   "outputs": [],
   "source": []
  }
 ],
 "metadata": {
  "kernelspec": {
   "display_name": "Python 3",
   "language": "python",
   "name": "python3"
  },
  "language_info": {
   "codemirror_mode": {
    "name": "ipython",
    "version": 3
   },
   "file_extension": ".py",
   "mimetype": "text/x-python",
   "name": "python",
   "nbconvert_exporter": "python",
   "pygments_lexer": "ipython3",
   "version": "3.7.9"
  }
 },
 "nbformat": 4,
 "nbformat_minor": 4
}
