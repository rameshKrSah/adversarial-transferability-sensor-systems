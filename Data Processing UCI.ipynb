{
 "cells": [
  {
   "cell_type": "markdown",
   "metadata": {},
   "source": [
    "# UCI HAR Dataset\n",
    "The experiments have been carried out with a group of 30 volunteers within an age bracket of 19-48 years. Each person performed six activities (WALKING, WALKING_UPSTAIRS, WALKING_DOWNSTAIRS, SITTING, STANDING, LAYING) wearing a smartphone (Samsung Galaxy S II) on the waist. Using its embedded accelerometer and gyroscope, we captured 3-axial linear acceleration and 3-axial angular velocity at a constant rate of 50Hz. The experiments have been video-recorded to label the data manually. The obtained dataset has been randomly partitioned into two sets, where 70% of the volunteers was selected for generating the training data and 30% the test data. \n",
    "\n",
    "The sensor signals (accelerometer and gyroscope) were pre-processed by applying noise filters and then sampled in fixed-width sliding windows of 2.56 sec and 50% overlap (128 readings/window). The sensor acceleration signal, which has gravitational and body motion components, was separated using a Butterworth low-pass filter into body acceleration and gravity. The gravitational force is assumed to have only low frequency components, therefore a filter with 0.3 Hz cutoff frequency was used. From each window, a vector of features was obtained by calculating variables from the time and frequency domain."
   ]
  },
  {
   "cell_type": "code",
   "execution_count": 1,
   "metadata": {},
   "outputs": [],
   "source": [
    "import os\n",
    "import sys\n",
    "import numpy as np\n",
    "import pandas as pd\n",
    "import pickle as pkl\n",
    "import matplotlib.pyplot as plt\n",
    "from sklearn.utils import shuffle\n",
    "import random"
   ]
  },
  {
   "cell_type": "code",
   "execution_count": 2,
   "metadata": {},
   "outputs": [],
   "source": [
    "uci_folder = \"../../../Datasets/UCI HAR Dataset/\""
   ]
  },
  {
   "cell_type": "code",
   "execution_count": 3,
   "metadata": {},
   "outputs": [
    {
     "data": {
      "text/plain": [
       "['.DS_Store',\n",
       " 'activity_labels.txt',\n",
       " 'features.txt',\n",
       " 'features_info.txt',\n",
       " 'README.txt',\n",
       " 'test',\n",
       " 'train']"
      ]
     },
     "execution_count": 3,
     "metadata": {},
     "output_type": "execute_result"
    }
   ],
   "source": [
    "os.listdir(uci_folder)"
   ]
  },
  {
   "cell_type": "code",
   "execution_count": 5,
   "metadata": {},
   "outputs": [],
   "source": [
    "train_folder = uci_folder + 'train/Inertial Signals/'\n",
    "test_folder = uci_folder + 'test/Inertial Signals/'\n",
    "\n",
    "train_labels_file = uci_folder + 'train/y_train.txt'\n",
    "test_labels_file = uci_folder + 'test/y_test.txt'\n",
    "\n",
    "train_subjects_ids_file = uci_folder + 'train/subject_train.txt'\n",
    "test_subjects_ids_file = uci_folder + 'test/subject_test.txt'\n"
   ]
  },
  {
   "cell_type": "code",
   "execution_count": 7,
   "metadata": {},
   "outputs": [
    {
     "data": {
      "text/plain": [
       "(array([ 1,  3,  5,  6,  7,  8, 11, 14, 15, 16, 17, 19, 21, 22, 23, 25, 26,\n",
       "        27, 28, 29, 30]),\n",
       " array([347, 341, 302, 325, 308, 281, 316, 323, 328, 366, 368, 360, 408,\n",
       "        321, 372, 409, 392, 376, 382, 344, 383], dtype=int64))"
      ]
     },
     "execution_count": 7,
     "metadata": {},
     "output_type": "execute_result"
    }
   ],
   "source": [
    "train_subjects_ids = np.loadtxt(train_subjects_ids_file, dtype = int)\n",
    "np.unique(train_subjects_ids, return_counts=True)"
   ]
  },
  {
   "cell_type": "code",
   "execution_count": 8,
   "metadata": {},
   "outputs": [
    {
     "data": {
      "text/plain": [
       "(array([ 2,  4,  9, 10, 12, 13, 18, 20, 24]),\n",
       " array([302, 317, 288, 294, 320, 327, 364, 354, 381], dtype=int64))"
      ]
     },
     "execution_count": 8,
     "metadata": {},
     "output_type": "execute_result"
    }
   ],
   "source": [
    "test_subjects_ids = np.loadtxt(test_subjects_ids_file, dtype=int)\n",
    "np.unique(test_subjects_ids, return_counts=True)"
   ]
  },
  {
   "cell_type": "code",
   "execution_count": 10,
   "metadata": {},
   "outputs": [],
   "source": [
    "all_subject_ids = np.concatenate([train_subjects_ids, test_subjects_ids])"
   ]
  },
  {
   "cell_type": "code",
   "execution_count": 12,
   "metadata": {},
   "outputs": [],
   "source": [
    "# Load the body acceleration data and put the data of three axes in one row for each label\n",
    "uci_har_x = np.loadtxt(train_folder + 'body_acc_x_train.txt')\n",
    "uci_har_y = np.loadtxt(train_folder + 'body_acc_y_train.txt')\n",
    "uci_har_z = np.loadtxt(train_folder + 'body_acc_z_train.txt')\n",
    "\n",
    "total, len_ = uci_har_x.shape\n",
    "\n",
    "uci_har_train_data = np.zeros((total, len_, 3))\n",
    "\n",
    "for i in range(uci_har_x.shape[0]):\n",
    "    uci_har_train_data[i, :, 0] = uci_har_x[i] \n",
    "    uci_har_train_data[i, :, 1] = uci_har_y[i] \n",
    "    uci_har_train_data[i, :, 2] = uci_har_z[i]"
   ]
  },
  {
   "cell_type": "code",
   "execution_count": 14,
   "metadata": {},
   "outputs": [],
   "source": [
    "# Load the body acceleration data and put the data of three axes in one row for each label\n",
    "uci_har_x = np.loadtxt(test_folder + 'body_acc_x_test.txt')\n",
    "uci_har_y = np.loadtxt(test_folder + 'body_acc_y_test.txt')\n",
    "uci_har_z = np.loadtxt(test_folder + 'body_acc_z_test.txt')\n",
    "\n",
    "total, len_ = uci_har_x.shape\n",
    "\n",
    "uci_har_test_data = np.zeros((total, len_, 3))\n",
    "\n",
    "for i in range(uci_har_x.shape[0]):\n",
    "    uci_har_test_data[i, :, 0] = uci_har_x[i] \n",
    "    uci_har_test_data[i, :, 1] = uci_har_y[i] \n",
    "    uci_har_test_data[i, :, 2] = uci_har_z[i]"
   ]
  },
  {
   "cell_type": "code",
   "execution_count": 15,
   "metadata": {},
   "outputs": [
    {
     "data": {
      "text/plain": [
       "((7352, 128, 3), (2947, 128, 3))"
      ]
     },
     "execution_count": 15,
     "metadata": {},
     "output_type": "execute_result"
    }
   ],
   "source": [
    "uci_har_train_data.shape, uci_har_test_data.shape"
   ]
  },
  {
   "cell_type": "code",
   "execution_count": 16,
   "metadata": {},
   "outputs": [],
   "source": [
    "uci_train_labels = np.loadtxt(train_labels_file, dtype=int)\n",
    "uci_test_labels = np.loadtxt(test_labels_file, dtype=int)"
   ]
  },
  {
   "cell_type": "code",
   "execution_count": 18,
   "metadata": {},
   "outputs": [
    {
     "data": {
      "text/plain": [
       "((7352, 128, 3), (7352,), (2947, 128, 3), (2947,))"
      ]
     },
     "execution_count": 18,
     "metadata": {},
     "output_type": "execute_result"
    }
   ],
   "source": [
    "uci_har_train_data.shape, uci_train_labels.shape, uci_har_test_data.shape, uci_test_labels.shape"
   ]
  },
  {
   "cell_type": "code",
   "execution_count": 19,
   "metadata": {},
   "outputs": [],
   "source": [
    "uci_har_activities = ['Walking',\n",
    "                     'Walking up',\n",
    "                     'Walking Down',\n",
    "                     'Sitting',\n",
    "                     'Standing',\n",
    "                     'Lying Down']"
   ]
  },
  {
   "cell_type": "code",
   "execution_count": 59,
   "metadata": {},
   "outputs": [],
   "source": [
    "uci_x = np.concatenate([uci_har_train_data, uci_har_test_data])\n",
    "uci_y = np.concatenate([uci_train_labels, uci_test_labels])\n",
    "uci_y = np.array(uci_y) - 1"
   ]
  },
  {
   "cell_type": "code",
   "execution_count": 60,
   "metadata": {},
   "outputs": [
    {
     "data": {
      "text/plain": [
       "((10299, 128, 3), (10299,), (10299,))"
      ]
     },
     "execution_count": 60,
     "metadata": {},
     "output_type": "execute_result"
    }
   ],
   "source": [
    "uci_x.shape, uci_y.shape, all_subject_ids.shape"
   ]
  },
  {
   "cell_type": "code",
   "execution_count": 24,
   "metadata": {},
   "outputs": [],
   "source": [
    "subject_ids = np.unique(all_subject_ids)"
   ]
  },
  {
   "cell_type": "code",
   "execution_count": 25,
   "metadata": {},
   "outputs": [
    {
     "data": {
      "text/plain": [
       "array([ 1,  2,  3,  4,  5,  6,  7,  8,  9, 10, 11, 12, 13, 14, 15, 16, 17,\n",
       "       18, 19, 20, 21, 22, 23, 24, 25, 26, 27, 28, 29, 30])"
      ]
     },
     "execution_count": 25,
     "metadata": {},
     "output_type": "execute_result"
    }
   ],
   "source": [
    "subject_ids"
   ]
  },
  {
   "cell_type": "code",
   "execution_count": 26,
   "metadata": {},
   "outputs": [],
   "source": [
    "source_ids = subject_ids[random.sample(range(0, max(subject_ids)), len(subject_ids)//2)]\n",
    "target_ids = [r for r in subject_ids if r not in source_ids]"
   ]
  },
  {
   "cell_type": "code",
   "execution_count": 27,
   "metadata": {},
   "outputs": [
    {
     "data": {
      "text/plain": [
       "(array([25,  8, 16, 12,  6,  5, 26, 17,  7, 27, 19, 20,  9, 23,  4]),\n",
       " [1, 2, 3, 10, 11, 13, 14, 15, 18, 21, 22, 24, 28, 29, 30])"
      ]
     },
     "execution_count": 27,
     "metadata": {},
     "output_type": "execute_result"
    }
   ],
   "source": [
    "source_ids, target_ids"
   ]
  },
  {
   "cell_type": "code",
   "execution_count": 68,
   "metadata": {},
   "outputs": [
    {
     "data": {
      "text/plain": [
       "array([False, False, False, False, False, False, False, False, False,\n",
       "       False, False, False, False, False, False])"
      ]
     },
     "execution_count": 68,
     "metadata": {},
     "output_type": "execute_result"
    }
   ],
   "source": [
    "source_ids == target_ids"
   ]
  },
  {
   "cell_type": "code",
   "execution_count": 69,
   "metadata": {},
   "outputs": [],
   "source": [
    "def get_data_for_subject_ids(x, y, subject_ids, selection_ids):\n",
    "    index = [0]\n",
    "    \n",
    "    for s in selection_ids:\n",
    "        i_ = np.where(subject_ids == s)[0]\n",
    "        index.extend(i_)\n",
    "        \n",
    "    return x[index[1:]], y[index[1:]]"
   ]
  },
  {
   "cell_type": "code",
   "execution_count": 70,
   "metadata": {},
   "outputs": [],
   "source": [
    "source_x, source_y = get_data_for_subject_ids(uci_x, uci_y, all_subject_ids, source_ids)"
   ]
  },
  {
   "cell_type": "code",
   "execution_count": 71,
   "metadata": {},
   "outputs": [],
   "source": [
    "target_x, target_y = get_data_for_subject_ids(uci_x, uci_y, all_subject_ids, target_ids)"
   ]
  },
  {
   "cell_type": "code",
   "execution_count": 72,
   "metadata": {},
   "outputs": [
    {
     "data": {
      "text/plain": [
       "((5138, 128, 3), (5161, 128, 3), (10299, 128, 3))"
      ]
     },
     "execution_count": 72,
     "metadata": {},
     "output_type": "execute_result"
    }
   ],
   "source": [
    "source_x.shape, target_x.shape, uci_x.shape"
   ]
  },
  {
   "cell_type": "code",
   "execution_count": 75,
   "metadata": {},
   "outputs": [],
   "source": [
    "data_folder = \"../Processed data/\""
   ]
  },
  {
   "cell_type": "code",
   "execution_count": 79,
   "metadata": {},
   "outputs": [
    {
     "data": {
      "text/plain": [
       "['adl_activity_dataset.pickle',\n",
       " 'adl_activity_dataset_small.pickle',\n",
       " 'adl_activity_dataset_small_minmax_scaled.pickle',\n",
       " 'adl_activity_feature_dataset_small.pickle',\n",
       " 'adl_dataset_small_minmax_scaled_feature.pickle',\n",
       " 'adl_posture_data.pickle',\n",
       " 'adl_posture_dataset.pickle',\n",
       " 'adl_posture_dataset_small.pickle',\n",
       " 'adl_posture_feature_dataset.pickle',\n",
       " 'adl_posture_feature_dataset_1.pickle',\n",
       " 'mHealth_ankle_dataset.pickle',\n",
       " 'mHealth_ankle_feature_dataset.pickle',\n",
       " 'mHealth_chest_dataset.pickle',\n",
       " 'mHealth_chest_feature_dataset.pickle',\n",
       " 'mHealth_wrist_dataset.pickle',\n",
       " 'mHealth_wrist_feature_dataset.pickle',\n",
       " 'mHealth_wrist_feature_dataset_1.pickle',\n",
       " 'mHealth_wrist_source_dataset.pickle',\n",
       " 'mHealth_wrist_target_dataset.pickle',\n",
       " 'uci_body_acc_dataset.pickle',\n",
       " 'uci_feature_dataset.pickle',\n",
       " 'uci_feature_dataset_1.pickle',\n",
       " 'uci_source_dataset.pickle',\n",
       " 'uci_target_dataset.pickle']"
      ]
     },
     "execution_count": 79,
     "metadata": {},
     "output_type": "execute_result"
    }
   ],
   "source": [
    "os.listdir(data_folder)"
   ]
  },
  {
   "cell_type": "code",
   "execution_count": 77,
   "metadata": {},
   "outputs": [],
   "source": [
    "f = open(data_folder+\"uci_source_dataset.pickle\", \"wb\")\n",
    "pkl.dump([source_x, source_y, source_ids], f)\n",
    "f.close()"
   ]
  },
  {
   "cell_type": "code",
   "execution_count": 78,
   "metadata": {},
   "outputs": [],
   "source": [
    "f = open(data_folder+\"uci_target_dataset.pickle\", \"wb\")\n",
    "pkl.dump([target_x, target_y, target_ids], f)\n",
    "f.close()"
   ]
  },
  {
   "cell_type": "code",
   "execution_count": null,
   "metadata": {},
   "outputs": [],
   "source": []
  }
 ],
 "metadata": {
  "kernelspec": {
   "display_name": "Python 3",
   "language": "python",
   "name": "python3"
  },
  "language_info": {
   "codemirror_mode": {
    "name": "ipython",
    "version": 3
   },
   "file_extension": ".py",
   "mimetype": "text/x-python",
   "name": "python",
   "nbconvert_exporter": "python",
   "pygments_lexer": "ipython3",
   "version": "3.7.9"
  }
 },
 "nbformat": 4,
 "nbformat_minor": 4
}
